{
 "cells": [
  {
   "cell_type": "markdown",
   "id": "af629129",
   "metadata": {},
   "source": [
    "In this example, we compute the coupling term $\\xi^2\\tilde{\\mathcal A}^{*3}$ displayed in Eq. 85 in https://arxiv.org/abs/2304.13656.  "
   ]
  },
  {
   "cell_type": "code",
   "execution_count": 1,
   "id": "b631ca89",
   "metadata": {},
   "outputs": [],
   "source": [
    "import sys\n",
    " \n",
    "# setting path\n",
    "sys.path.append('../')\n",
    "\n",
    "from bosonic_diagram import Network\n",
    "from sympy import Symbol, init_printing, integrate, Rational\n",
    "init_printing()"
   ]
  },
  {
   "cell_type": "code",
   "execution_count": 2,
   "id": "e15334b3",
   "metadata": {},
   "outputs": [],
   "source": [
    "# define bosonic variables of the oscillator and drive variables\n",
    "\n",
    "A = Symbol('A') #annihilator of oscillator in the transformed space\n",
    "As =  A.conjugate() \n",
    "xi = Symbol('xi')\n",
    "xis =  xi.conjugate() \n",
    "\n",
    "wd = Symbol('omega_d') #drive frequenct\n",
    "wA = Rational(2,3)*wd\n",
    "\n",
    "\n",
    "inputs = [[(A, wA)], [(xi, wd)]]\n",
    "Network.set_X0(inputs) #set A and xi as the possible inputs to the mixing diagram. \n",
    "                        #inputs[0] contains the quantum modes, and inputs[1] contains classical drives"
   ]
  },
  {
   "cell_type": "markdown",
   "id": "7c47285d",
   "metadata": {},
   "source": [
    "Now we compute $\\partial_{\\tilde{\\mathcal A}^*}\\tilde{K}$ through diagrams. The sought after effective Hamiltonian is  $\\tilde{K} = \\Omega_{3,2}\\xi^2\\tilde{\\mathcal A}^{*3}$, and therefore at the EOM level $\\partial_{\\tilde{\\mathcal A}^*}\\tilde{K} = 3\\Omega_{3,2}\\xi^2\\tilde{\\mathcal A}^{*2}$ contains 2 $\\xi$ and 2 $\\tilde{\\mathcal A}^*$"
   ]
  },
  {
   "cell_type": "code",
   "execution_count": 3,
   "id": "1e40cbc4",
   "metadata": {},
   "outputs": [],
   "source": [
    "inputs_list = [xi, xi, As, As]\n",
    "networks = Network.with_sources(inputs_list, False, 0)#generate all possible networks\n",
    "                                                    #first arg inputs_list defines all inputs in the diagram\n",
    "                                                    #second arg specify if the network contains only even-wave mixer,\n",
    "                                                    #which is the case in transmon\n",
    "                                                    #third arg specify the number of $\\delta$ factor in the effective Hamiltonian\n",
    "\n"
   ]
  },
  {
   "cell_type": "markdown",
   "id": "d3efc725",
   "metadata": {},
   "source": [
    "Now we get all 34 possible _unorder diagram_ giving $\\partial_{\\tilde{\\mathcal A}^*}\\tilde{K} = 3\\Omega_{3,2}\\xi^2\\tilde{\\mathcal A}^{*2}$. We display three representational ones in them, corresponding to a 5-wave mixer along, a 3-wave mixer and a 4-wave mixer cascaded together, and three 3-wave mixer cascaded togther. See Eq. 80 in the reference"
   ]
  },
  {
   "cell_type": "code",
   "execution_count": 7,
   "id": "2dcc261f",
   "metadata": {},
   "outputs": [
    {
     "name": "stdout",
     "output_type": "stream",
     "text": [
      "<-0r[1A*,2A*,3xi,4xi] is evaluated as:  6*g_5*xi**2*conjugate(A)**2\n",
      "<-0r[1A*,2A*,->3[4xi,5xi]] is evaluated as:  6*g_5*xi**2*conjugate(A)**2\n",
      "<-0r[->1[2A*,3xi],->4[5A*,6xi]] is evaluated as:  6*g_5*xi**2*conjugate(A)**2\n"
     ]
    }
   ],
   "source": [
    "for i in [0,1,-1]:\n",
    "    print(networks[i], \"is evaluated as: \", networks[0].expression())"
   ]
  },
  {
   "cell_type": "markdown",
   "id": "e2ea5280",
   "metadata": {},
   "source": [
    "If you have $\\LaTeX$ installed for IPython, these expressions should displayed neatly in rendered $\\LaTeX$ font"
   ]
  },
  {
   "cell_type": "code",
   "execution_count": 10,
   "id": "20e913c3",
   "metadata": {},
   "outputs": [
    {
     "data": {
      "image/png": "[encoded data removed]",
      "text/latex": [
       "$\\displaystyle \\frac{4 g_{3}^{3} \\xi^{2} \\overline{A}^{2}}{\\omega_{d}^{2}} - \\frac{9 g_{3} g_{4} \\xi^{2} \\overline{A}^{2}}{8 \\omega_{d}} + 6 g_{5} \\xi^{2} \\overline{A}^{2}$"
      ],
      "text/plain": [
       "          2               2             \n",
       "    3  2 _             2 _             2\n",
       "4⋅g₃ ⋅ξ ⋅A    9⋅g₃⋅g₄⋅ξ ⋅A          2 _ \n",
       "─────────── - ───────────── + 6⋅g₅⋅ξ ⋅A \n",
       "       2          8⋅ω_d                 \n",
       "    ω_d                                 "
      ]
     },
     "execution_count": 10,
     "metadata": {},
     "output_type": "execute_result"
    }
   ],
   "source": [
    "networks[0].expression() + networks[1].expression()+ networks[-1].expression()"
   ]
  },
  {
   "cell_type": "markdown",
   "id": "1656d8a6",
   "metadata": {},
   "source": [
    "Now we add up the expression associated with all diagrams generated"
   ]
  },
  {
   "cell_type": "code",
   "execution_count": 14,
   "id": "01b03987",
   "metadata": {},
   "outputs": [
    {
     "data": {
      "image/png": "[encoded data removed]",
      "text/latex": [
       "$\\displaystyle \\frac{585 g_{3}^{3} \\xi^{2} \\overline{A}^{2}}{4 \\omega_{d}^{2}} - \\frac{495 g_{3} g_{4} \\xi^{2} \\overline{A}^{2}}{8 \\omega_{d}} + 6 g_{5} \\xi^{2} \\overline{A}^{2}$"
      ],
      "text/plain": [
       "            2                 2             \n",
       "      3  2 _               2 _             2\n",
       "585⋅g₃ ⋅ξ ⋅A    495⋅g₃⋅g₄⋅ξ ⋅A          2 _ \n",
       "───────────── - ─────────────── + 6⋅g₅⋅ξ ⋅A \n",
       "         2           8⋅ω_d                  \n",
       "    4⋅ω_d                                   "
      ]
     },
     "execution_count": 14,
     "metadata": {},
     "output_type": "execute_result"
    }
   ],
   "source": [
    "dAsK = 0\n",
    "for ntwk in networks:\n",
    "    dAsK += ntwk.expression()\n",
    "dAsK"
   ]
  },
  {
   "cell_type": "markdown",
   "id": "10170680",
   "metadata": {},
   "source": [
    "Note that this expression corresponds to $\\partial_{\\tilde{\\mathcal A}^*}\\tilde{K} = 3\\Omega_{3,2}\\xi^2\\tilde{\\mathcal A}^{*2}$. Upon inegration over $\\tilde{\\mathcal A}^*$ (or $\\bar A$ in the expression generated from the code), we can get the expression fro $\\tilde{K}$ which is the same as Eq. 85 in the reference."
   ]
  }
 ],
 "metadata": {
  "kernelspec": {
   "display_name": "Python 3 (ipykernel)",
   "language": "python",
   "name": "python3"
  },
  "language_info": {
   "codemirror_mode": {
    "name": "ipython",
    "version": 3
   },
   "file_extension": ".py",
   "mimetype": "text/x-python",
   "name": "python",
   "nbconvert_exporter": "python",
   "pygments_lexer": "ipython3",
   "version": "3.9.13"
  }
 },
 "nbformat": 4,
 "nbformat_minor": 5
}
